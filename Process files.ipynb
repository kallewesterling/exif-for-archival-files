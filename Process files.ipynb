{
 "cells": [
  {
   "cell_type": "code",
   "execution_count": 106,
   "metadata": {},
   "outputs": [],
   "source": [
    "# Because PNGs cannot contain EXIF, here we use PIL's PngInfo object to create metadata for the image"
   ]
  },
  {
   "cell_type": "code",
   "execution_count": 96,
   "metadata": {},
   "outputs": [],
   "source": [
    "from PIL.PngImagePlugin import PngImageFile, PngInfo\n",
    "from pathlib import Path\n",
    "import re\n",
    "\n",
    "date = re.compile(r'^(\\d{4})\\-(\\d{2})\\-(\\d{2})')\n",
    "date_bkup = re.compile(r'(\\d{2}) (Jan|Feb|Mar|Apr|May|Jun|Jul|Aug|Sep|Oct|Nov|Dec) (\\d{4})')\n",
    "page = re.compile(r', p. ([A-Z]?\\d+)[ |.]')\n",
    "page_bkup = re.compile(r', (\\d+)\\.png')\n",
    "page_bkup2 = re.compile(r'Page (\\d+)[ |.]')"
   ]
  },
  {
   "cell_type": "code",
   "execution_count": null,
   "metadata": {},
   "outputs": [],
   "source": [
    "for path in list(Path('/Users/kallewesterling/Google Drive/Ongoing Projects/Dissertation - Archive/- My own clippings and photos').rglob('*.png')):\n",
    "    full_date, year, month, day, p = None, None, None, None, None\n",
    "\n",
    "    with open(path, 'rb+') as f:\n",
    "        img = PngImageFile(f)\n",
    "        \n",
    "        has_date = date.search(path.name)\n",
    "        has_p = page.search(path.name)\n",
    "        has_bkup_date = date_bkup.search(path.name)\n",
    "        has_bkup_p = page_bkup.search(path.name)\n",
    "        has_bkup_p2 = page_bkup2.search(path.name)\n",
    "\n",
    "        if has_date:\n",
    "            year, month, day = has_date.groups()\n",
    "            \n",
    "        if has_bkup_date:\n",
    "            day, month, year = has_bkup_date.groups()\n",
    "            for search, replace in {'Jan': '01', 'Feb': '02', 'Mar': '03', 'Apr': '04', 'May': '05', 'Jun': '06', 'Jul': '07', 'Aug': '08', 'Sep': '09', 'Oct': '10', 'Nov': '11', 'Dec': '12'}.items():\n",
    "                month = month.replace(search, replace)\n",
    "            \n",
    "        '''\n",
    "        if has_p:\n",
    "            p = has_p.groups()[0]\n",
    "        \n",
    "        if has_bkup_p:\n",
    "            p = has_bkup_p.groups()[0]\n",
    "            \n",
    "        if has_bkup_p2:\n",
    "            p = has_bkup_p2.groups()[0]\n",
    "        '''\n",
    "            \n",
    "        if year or p:\n",
    "            metadata = PngInfo()\n",
    "        \n",
    "            if year:\n",
    "                full_date = f'{year}-{month}-{day}'\n",
    "                metadata.add_text('Date', full_date)\n",
    "            if p:\n",
    "                metadata.add_text('Page', p)\n",
    "            \n",
    "            img.save(path.parent / path.name, pnginfo=metadata)\n",
    "            print(path.parent / path.name)"
   ]
  },
  {
   "cell_type": "code",
   "execution_count": null,
   "metadata": {},
   "outputs": [],
   "source": []
  },
  {
   "cell_type": "code",
   "execution_count": null,
   "metadata": {},
   "outputs": [],
   "source": []
  },
  {
   "cell_type": "code",
   "execution_count": null,
   "metadata": {},
   "outputs": [],
   "source": []
  },
  {
   "cell_type": "code",
   "execution_count": null,
   "metadata": {},
   "outputs": [],
   "source": []
  },
  {
   "cell_type": "code",
   "execution_count": null,
   "metadata": {},
   "outputs": [],
   "source": []
  },
  {
   "cell_type": "code",
   "execution_count": null,
   "metadata": {},
   "outputs": [],
   "source": []
  }
 ],
 "metadata": {
  "hide_input": false,
  "kernelspec": {
   "display_name": "Python 3",
   "language": "python",
   "name": "python3"
  },
  "language_info": {
   "codemirror_mode": {
    "name": "ipython",
    "version": 3
   },
   "file_extension": ".py",
   "mimetype": "text/x-python",
   "name": "python",
   "nbconvert_exporter": "python",
   "pygments_lexer": "ipython3",
   "version": "3.8.5"
  },
  "toc": {
   "base_numbering": 1,
   "nav_menu": {},
   "number_sections": true,
   "sideBar": true,
   "skip_h1_title": false,
   "title_cell": "Table of Contents",
   "title_sidebar": "Contents",
   "toc_cell": false,
   "toc_position": {},
   "toc_section_display": true,
   "toc_window_display": false
  }
 },
 "nbformat": 4,
 "nbformat_minor": 4
}
